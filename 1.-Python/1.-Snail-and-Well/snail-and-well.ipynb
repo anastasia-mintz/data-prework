{
 "cells": [
  {
   "cell_type": "markdown",
   "metadata": {},
   "source": [
    "<img src=\"https://bit.ly/2VnXWr2\" width=\"100\" align=\"left\">"
   ]
  },
  {
   "cell_type": "markdown",
   "metadata": {},
   "source": [
    "# The Snail and the Well\n",
    "\n",
    "A snail falls at the bottom of a 125 cm well. Each day the snail rises 30 cm. But at night, while sleeping, slides 20 cm because the walls are wet. How many days does it take for the snail to escape the well?\n",
    "\n",
    "**Hint**: The snail gets out of the well when it surpasses the 125cm of height.\n",
    "\n",
    "## Tools\n",
    "\n",
    "1. Loop: **while**\n",
    "2. Conditional statements: **if-else**\n",
    "3. Function: **print()**\n",
    "\n",
    "## Tasks\n",
    "\n",
    "#### 1. Assign the challenge data to variables with representative names: `well_height`, `daily_distance`, `nightly_distance` and `snail_position`."
   ]
  },
  {
   "cell_type": "code",
   "execution_count": 75,
   "metadata": {},
   "outputs": [],
   "source": [
    "well_height = 125\n",
    "daily_distance=30\n",
    "nightly_distance=20\n",
    "snail_position= 0"
   ]
  },
  {
   "cell_type": "markdown",
   "metadata": {},
   "source": [
    "#### 2. Create a variable `days` to keep count of the days that pass until the snail escapes the well. "
   ]
  },
  {
   "cell_type": "code",
   "execution_count": 76,
   "metadata": {},
   "outputs": [],
   "source": [
    "days = 0"
   ]
  },
  {
   "cell_type": "markdown",
   "metadata": {},
   "source": [
    "#### 3. Find the solution to the challenge using the variables defined above. "
   ]
  },
  {
   "cell_type": "code",
   "execution_count": 77,
   "metadata": {},
   "outputs": [
    {
     "name": "stdout",
     "output_type": "stream",
     "text": [
      "Snail started climbing\n",
      "Still climbing\n",
      "Still climbing\n",
      "Still climbing\n",
      "Still climbing\n",
      "Still climbing\n",
      "Still climbing\n",
      "Still climbing\n",
      "Still climbing\n",
      "Still climbing\n",
      "Still climbing\n",
      "Still climbing\n",
      "The snail is out in 11 days\n"
     ]
    }
   ],
   "source": [
    "print(\"Snail started climbing\")\n",
    "\n",
    "while True:\n",
    " print(\"Still climbing\")\n",
    " days += 1\n",
    " snail_position += daily_distance\n",
    " if snail_position >= well_height:\n",
    "        break\n",
    " snail_position -= nightly_distance\n",
    "\n",
    "print(\"The snail is out in\", days, \"days\")"
   ]
  },
  {
   "cell_type": "markdown",
   "metadata": {},
   "source": [
    "#### 4. Print the solution."
   ]
  },
  {
   "cell_type": "code",
   "execution_count": 78,
   "metadata": {},
   "outputs": [
    {
     "name": "stdout",
     "output_type": "stream",
     "text": [
      "It took the snail 11 days\n"
     ]
    }
   ],
   "source": [
    "print(\"It took the snail\", days, \"days\")"
   ]
  },
  {
   "cell_type": "markdown",
   "metadata": {},
   "source": [
    "## Bonus\n",
    "The distance traveled by the snail each day is now defined by a list.\n",
    "```\n",
    "advance_cm = [30, 21, 33, 77, 44, 45, 23, 45, 12, 34, 55]\n",
    "```\n",
    "On the first day, the snail rises 30cm but during the night it slides 20cm. On the second day, the snail rises 21cm but during the night it slides 20cm, and so on. \n",
    "\n",
    "#### 1. How many days does it take for the snail to escape the well?\n",
    "Follow the same guidelines as in the previous challenge.\n",
    "\n",
    "**Hint**: Remember that the snail gets out of the well when it surpasses the 125cm of height."
   ]
  },
  {
   "cell_type": "code",
   "execution_count": 112,
   "metadata": {},
   "outputs": [
    {
     "name": "stdout",
     "output_type": "stream",
     "text": [
      "total currently 30\n",
      "total at night 10\n",
      "total currently 31\n",
      "total at night 11\n",
      "total currently 44\n",
      "total at night 24\n",
      "total currently 101\n",
      "total at night 81\n",
      "total currently 125\n",
      "5\n"
     ]
    }
   ],
   "source": [
    "well_height = 125\n",
    "snail_position = 0\n",
    "days = 0\n",
    "advance_cm = [30, 21, 33, 77, 44, 45, 23, 45, 12, 34, 55]\n",
    "\n",
    "while snail_position < well_height:\n",
    "    for i in advance_cm:\n",
    "        snail_position = snail_position + i\n",
    "        days += 1\n",
    "        print(\"total currently\", snail_position)\n",
    "        if snail_position >= well_height:\n",
    "            break\n",
    "        snail_position -= 20\n",
    "        print(\"total at night\", snail_position)\n",
    "    \n",
    "print(days)\n",
    "  \n"
   ]
  },
  {
   "cell_type": "markdown",
   "metadata": {},
   "source": [
    "#### 2. What is its maximum displacement in one day? And its minimum? Calculate the displacement using only the travel distance of the days used to get out of the well. \n",
    "**Hint**: Remember that displacement means the total distance risen taking into account that the snail slides at night.  "
   ]
  },
  {
   "cell_type": "code",
   "execution_count": 126,
   "metadata": {},
   "outputs": [
    {
     "name": "stdout",
     "output_type": "stream",
     "text": [
      "[30, 21, 33, 77, 44]\n",
      "10\n",
      "1\n",
      "13\n",
      "57\n",
      "24\n",
      "[10, 1, 13, 57, 24]\n",
      "57\n",
      "1\n"
     ]
    }
   ],
   "source": [
    "i = advance_cm[0:5]\n",
    "print(i)\n",
    "\n",
    "displacement= []\n",
    "\n",
    "for item in i:\n",
    "    item -= 20\n",
    "    print(item)\n",
    "    displacement.append(item)\n",
    "    \n",
    "print(displacement)\n",
    "\n",
    "#Max Displacement\n",
    "print(max(displacement))\n",
    "\n",
    "#Min Displacement\n",
    "print(min(displacement))"
   ]
  },
  {
   "cell_type": "markdown",
   "metadata": {},
   "source": [
    "#### 3. What is its average progress? Take into account the snail slides at night."
   ]
  },
  {
   "cell_type": "code",
   "execution_count": 135,
   "metadata": {},
   "outputs": [
    {
     "name": "stdout",
     "output_type": "stream",
     "text": [
      "21.0\n"
     ]
    }
   ],
   "source": [
    "#Average Daily Progress\n",
    "mean = sum(displacement)/len(displacement)\n",
    "print(mean)"
   ]
  },
  {
   "cell_type": "markdown",
   "metadata": {},
   "source": [
    "#### 4. What is the standard deviation of its displacement? Take into account the snail slides at night."
   ]
  },
  {
   "cell_type": "code",
   "execution_count": 139,
   "metadata": {},
   "outputs": [
    {
     "name": "stdout",
     "output_type": "stream",
     "text": [
      "[121.0, 400.0, 64.0, 1296.0, 9.0]\n",
      "378.0\n",
      "19.44222209522358\n"
     ]
    }
   ],
   "source": [
    "distance_to_mean2 = []\n",
    "for item in displacement:\n",
    "    new_item = item - mean\n",
    "    square = new_item**2\n",
    "    distance_to_mean2.append(square)\n",
    "print(distance_to_mean2)\n",
    "variance = sum(distance_to_mean2)/len(distance_to_mean2)\n",
    "print(variance)\n",
    "\n",
    "#Standard Deviation:\n",
    "stan_dev=variance**0.5\n",
    "print(stan_dev)"
   ]
  }
 ],
 "metadata": {
  "kernelspec": {
   "display_name": "Python 3",
   "language": "python",
   "name": "python3"
  },
  "language_info": {
   "codemirror_mode": {
    "name": "ipython",
    "version": 3
   },
   "file_extension": ".py",
   "mimetype": "text/x-python",
   "name": "python",
   "nbconvert_exporter": "python",
   "pygments_lexer": "ipython3",
   "version": "3.8.5"
  }
 },
 "nbformat": 4,
 "nbformat_minor": 2
}
