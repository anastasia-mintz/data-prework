{
 "cells": [
  {
   "cell_type": "markdown",
   "metadata": {},
   "source": [
    "<img src=\"https://bit.ly/2VnXWr2\" width=\"100\" align=\"left\">"
   ]
  },
  {
   "cell_type": "markdown",
   "metadata": {},
   "source": [
    "# Rock, Paper & Scissors\n",
    "\n",
    "Let's play the famous game against our computer. You can check the rules [here](https://en.wikipedia.org/wiki/Rock%E2%80%93paper%E2%80%93scissors). \n",
    "\n",
    "## Task\n",
    "Create a program that imitates the playability of the well known game of rock, paper, scissors. Follow the guidelines provided.\n",
    "\n",
    "## Tools\n",
    "1. Loop: **for/while**\n",
    "2. Functions: **input(), print()...**\n",
    "3. Conditional statements: **if, elif, else**\n",
    "4. Definition of functions. Modular programming\n",
    "5. Import modules\n",
    "\n",
    "**To solve this challenge, the use of functions is recommended.**\n",
    "\n",
    "#### 1. Import the choice function of the random module."
   ]
  },
  {
   "cell_type": "code",
   "execution_count": 106,
   "metadata": {},
   "outputs": [],
   "source": [
    "import random"
   ]
  },
  {
   "cell_type": "markdown",
   "metadata": {},
   "source": [
    "#### 2. Create a list that includes the 3 possible gesture options of the game: 'rock', 'paper' or 'scissors'. Store the list in a variable called `gestures`."
   ]
  },
  {
   "cell_type": "code",
   "execution_count": 107,
   "metadata": {},
   "outputs": [],
   "source": [
    "gestures = ['rock', 'paper', 'scissors']"
   ]
  },
  {
   "cell_type": "markdown",
   "metadata": {},
   "source": [
    "#### 3. Create a variable called `n_rounds` to store the maximum number of rounds to play in a game. \n",
    "Remember that the number of rounds must be odd: 1, 3, 5, ..."
   ]
  },
  {
   "cell_type": "code",
   "execution_count": 108,
   "metadata": {},
   "outputs": [],
   "source": [
    "n_rounds = 0"
   ]
  },
  {
   "cell_type": "markdown",
   "metadata": {},
   "source": [
    "#### 4. Create a variable called `rounds_to_win` to store the number of rounds that a player must win to win the game.\n",
    "**Hint**: the value stored in `rounds_to_win` depends on the value of `n_rounds`. "
   ]
  },
  {
   "cell_type": "code",
   "execution_count": 109,
   "metadata": {},
   "outputs": [],
   "source": [
    "rounds_to_win = 2"
   ]
  },
  {
   "cell_type": "markdown",
   "metadata": {},
   "source": [
    "#### 5. Create two variables to store the number of rounds that the computer and the player have won. Call these variables `cpu_score` and `player_score`."
   ]
  },
  {
   "cell_type": "code",
   "execution_count": 110,
   "metadata": {},
   "outputs": [],
   "source": [
    "cpu_score = 0\n",
    "player_score = 0"
   ]
  },
  {
   "cell_type": "markdown",
   "metadata": {},
   "source": [
    "#### 6. Define a function that randomly returns one of the 3 gesture options.\n",
    "You will use this function to simulate the gesture choice of the computer. "
   ]
  },
  {
   "cell_type": "code",
   "execution_count": 111,
   "metadata": {},
   "outputs": [
    {
     "name": "stdout",
     "output_type": "stream",
     "text": [
      "scissors\n"
     ]
    }
   ],
   "source": [
    "cpu_move = random.choice(gestures)\n",
    "print(cpu_move)"
   ]
  },
  {
   "cell_type": "markdown",
   "metadata": {},
   "source": [
    "#### 7. Define a function that asks the player which is the gesture he or she wants to show: 'rock', 'paper' or 'scissors'.\n",
    "The player should only be allowed to choose one of the 3 gesture options. If the player's choice is not rock, paper or scissors, keep asking until it is."
   ]
  },
  {
   "cell_type": "code",
   "execution_count": 129,
   "metadata": {},
   "outputs": [
    {
     "name": "stdout",
     "output_type": "stream",
     "text": [
      "What is your next move? Write rock, paper or scissors:  rock\n",
      "You chose rock\n"
     ]
    }
   ],
   "source": [
    "players_move = input(\"What is your next move? Write rock, paper or scissors:  \")\n",
    "if  players_move == 'rock':\n",
    "        print(\"You chose\", players_move)\n",
    "elif  players_move == 'paper':\n",
    "        print(\"You chose\", players_move)\n",
    "elif  players_move == 'scissors':\n",
    "        print(\"You chose\", players_move)\n",
    "else:\n",
    "    while True:\n",
    "        print(\"Please enter a valid move\")\n",
    "     \n",
    "      "
   ]
  },
  {
   "cell_type": "markdown",
   "metadata": {},
   "source": [
    "#### 8. Define a function that checks who won a round. \n",
    "The function should return 0 if there is a tie, 1 if the computer wins and 2 if the player wins."
   ]
  },
  {
   "cell_type": "code",
   "execution_count": 114,
   "metadata": {},
   "outputs": [
    {
     "name": "stdout",
     "output_type": "stream",
     "text": [
      "2\n"
     ]
    }
   ],
   "source": [
    "\n",
    "if cpu_move == players_move:\n",
    "    variable = 0\n",
    "elif (cpu_move == 'rock') & (players_move == 'scissors'):\n",
    "    variable = 1\n",
    "elif (cpu_move == 'scissors') & (players_move == 'paper'):\n",
    "    variable = 1\n",
    "elif (cpu_move == 'paper') & (players_move == 'rock'):\n",
    "    variable = 1\n",
    "else:\n",
    "    variable = 2\n",
    "\n",
    "print(variable)"
   ]
  },
  {
   "cell_type": "markdown",
   "metadata": {},
   "source": [
    "#### 9. Define a function that prints the choice of the computer, the choice of the player and a message that announces who won the current round. \n",
    "You should also use this function to update the variables that count the number of rounds that the computer and the player have won. The score of the winner increases by one point. If there is a tie, the score does not increase."
   ]
  },
  {
   "cell_type": "code",
   "execution_count": 115,
   "metadata": {},
   "outputs": [
    {
     "name": "stdout",
     "output_type": "stream",
     "text": [
      "You played:        rock\n",
      "Computer played:   scissors\n",
      "Player Wins\n"
     ]
    }
   ],
   "source": [
    "print(\"You played:       \", players_move)\n",
    "print(\"Computer played:  \", cpu_move)\n",
    "\n",
    "if variable == 0:\n",
    "    print(\"It's a tie\")\n",
    "elif variable == 1:\n",
    "    cpu_score += 1\n",
    "    print(\"Computer Wins\")\n",
    "elif variable == 2:\n",
    "    player_score += 1\n",
    "    print(\"Player Wins\")\n",
    "\n",
    "n_rounds += 1"
   ]
  },
  {
   "cell_type": "markdown",
   "metadata": {},
   "source": [
    "#### 10. Now it's time to code the execution of the game using the functions and variables you defined above. \n",
    "\n",
    "First, create a loop structure that repeats while no player reaches the minimum score necessary to win and the number of rounds is less than the maximum number of rounds to play in a game.  \n",
    "\n",
    "Inside the loop, use the functions and variables above to create the execution of a round: ask for the player's choice, generate the random choice of the computer, show the round results, update the scores, etc. "
   ]
  },
  {
   "cell_type": "code",
   "execution_count": 130,
   "metadata": {},
   "outputs": [
    {
     "name": "stdout",
     "output_type": "stream",
     "text": [
      "<<<<<<In order to win this game, get best score out of three rounds!!>>>>>>\n",
      "What is your next move? Write rock, paper or scissors:  rock\n",
      "You chose rock\n",
      "...\n",
      "You played:        rock\n",
      "Computer played:   rock\n",
      "......\n",
      "It's a tie\n",
      "0 : 0 Number of rounds played: 1\n",
      "What is your next move? Write rock, paper or scissors:  paper\n",
      "You chose paper\n",
      "...\n",
      "You played:        paper\n",
      "Computer played:   scissors\n",
      "......\n",
      "Computer Wins this round\n",
      "1 : 0 Number of rounds played: 2\n",
      "What is your next move? Write rock, paper or scissors:  paper\n",
      "You chose paper\n",
      "...\n",
      "You played:        paper\n",
      "Computer played:   scissors\n",
      "......\n",
      "Computer Wins this round\n",
      "2 : 0 Number of rounds played: 3\n",
      "Computer Wins the Game\n"
     ]
    }
   ],
   "source": [
    "n_rounds = 0\n",
    "cpu_score = 0\n",
    "player_score = 0\n",
    "rounds_to_win = 2\n",
    "gestures = ['rock', 'paper', 'scissors']\n",
    "print(\"<<<<<<In order to win this game, get best score out of three rounds!!\"\n",
    "     \">>>>>>\")\n",
    "while True: \n",
    "    players_move = input(\"What is your next move? Write rock, paper or scissors:  \")\n",
    "    if  players_move == 'rock':\n",
    "            print(\"You chose\", players_move)\n",
    "    elif  players_move == 'paper':\n",
    "            print(\"You chose\", players_move)\n",
    "    elif  players_move == 'scissors':\n",
    "            print(\"You chose\", players_move)\n",
    "    else:\n",
    "            print(\"Please enter a valid move\")\n",
    "            \n",
    "    cpu_move = random.choice(gestures)\n",
    "    print(\"...\")\n",
    "    \n",
    "        \n",
    "    if cpu_move == players_move:\n",
    "        variable = 0\n",
    "    elif (cpu_move == 'rock') & (players_move == 'scissors'):\n",
    "        variable = 1\n",
    "    elif (cpu_move == 'scissors') & (players_move == 'paper'):\n",
    "        variable = 1\n",
    "    elif (cpu_move == 'paper') & (players_move == 'rock'):\n",
    "        variable = 1\n",
    "    else:\n",
    "        variable = 2\n",
    "\n",
    "        \n",
    "        \n",
    "    print(\"You played:       \", players_move)\n",
    "    print(\"Computer played:  \", cpu_move)\n",
    "    print(\"......\")\n",
    "    if variable == 0:\n",
    "        print(\"It's a tie\")\n",
    "    elif variable == 1:\n",
    "        cpu_score += 1\n",
    "        print(\"Computer Wins this round\")\n",
    "    elif variable == 2:\n",
    "        player_score += 1\n",
    "        print(\"Player Wins this round\")\n",
    "  \n",
    "    n_rounds += 1\n",
    "    print(cpu_score, \":\", player_score,      \"Number of rounds played:\", n_rounds)\n",
    "    if cpu_score == rounds_to_win:\n",
    "        if cpu_score > player_score:\n",
    "            print(\"Computer Wins the Game\")\n",
    "        elif player_score > cpu_score:\n",
    "            print(\"Player Wins the Game\")\n",
    "        elif player_score == cpu_score:\n",
    "            print(\"It's a tie! Try Again\")\n",
    "        break\n",
    "    elif player_score == rounds_to_win:\n",
    "        if cpu_score > player_score:\n",
    "            print(\"Computer Wins the Game\")\n",
    "        elif player_score > cpu_score:\n",
    "            print(\"Player Wins the Game\")\n",
    "        elif player_score == cpu_score:\n",
    "            print(\"It's a tie! Try Again\")\n",
    "        break\n",
    "    elif n_rounds == 3:\n",
    "        if cpu_score > player_score:\n",
    "            print(\"Computer Wins the Game\")\n",
    "        elif player_score > cpu_score:\n",
    "            print(\"Player Wins the Game\")\n",
    "        elif player_score == cpu_score:\n",
    "            print(\"It's a tie! Try Again\")\n",
    "        break\n",
    "    else:\n",
    "        continue\n",
    "                 "
   ]
  },
  {
   "cell_type": "markdown",
   "metadata": {},
   "source": [
    "#### 11. Print the winner of the game based on who won more rounds.\n",
    "Remember that the game might be tied. "
   ]
  },
  {
   "cell_type": "code",
   "execution_count": null,
   "metadata": {},
   "outputs": [],
   "source": [
    "if cpu_score > player_score:\n",
    "    print(\"Computer Wins the Game\")\n",
    "elif player_score > cpu_score:\n",
    "    print(\"Player Wins the Game\")\n",
    "elif player_score == cpu_score:\n",
    "    print(\"It's a tie! Try Again\")"
   ]
  },
  {
   "cell_type": "markdown",
   "metadata": {},
   "source": [
    "# Bonus: Rock, Paper, Scissors, Lizard & Spock\n",
    "![](images/rpsls.jpg)\n",
    "\n",
    "In this challenge, you need to improve the previous game by adding two new options. To know more about the rules of the improved version of rock, paper, scissors, check this [link](http://www.samkass.com/theories/RPSSL.html). \n",
    "\n",
    "In addition, you will also need to improve how the game interacts with the player: the number of rounds to play, which must be an odd number, will be requested to the user until a valid number is entered. Define a new function to make that request.\n",
    "\n",
    "**Hint**: Try to reuse the code that you already coded in the previous challenge. If your code is efficient, this bonus will only consist of simple modifications to the original game."
   ]
  },
  {
   "cell_type": "code",
   "execution_count": null,
   "metadata": {},
   "outputs": [],
   "source": []
  }
 ],
 "metadata": {
  "kernelspec": {
   "display_name": "Python 3",
   "language": "python",
   "name": "python3"
  },
  "language_info": {
   "codemirror_mode": {
    "name": "ipython",
    "version": 3
   },
   "file_extension": ".py",
   "mimetype": "text/x-python",
   "name": "python",
   "nbconvert_exporter": "python",
   "pygments_lexer": "ipython3",
   "version": "3.8.5"
  }
 },
 "nbformat": 4,
 "nbformat_minor": 2
}
